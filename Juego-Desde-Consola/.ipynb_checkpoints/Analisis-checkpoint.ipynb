{
 "cells": [
  {
   "cell_type": "markdown",
   "metadata": {},
   "source": [
    "# Análisis"
   ]
  },
  {
   "cell_type": "markdown",
   "metadata": {},
   "source": [
    "### Hagamos un análisis sobre los algoritmos que implementamos en `Ordenamiento.py` y `Busqueda.py`."
   ]
  },
  {
   "cell_type": "code",
   "execution_count": 1,
   "metadata": {},
   "outputs": [],
   "source": [
    "import numpy as np\n",
    "import matplotlib.pyplot as plt\n",
    "from tqdm import tqdm\n",
    "from time import time\n",
    "from Ordenamiento import insertionSort, selectionSort, bubbleSort\n",
    "from Busqueda import busquedaLineal, busquedaBinaria"
   ]
  },
  {
   "cell_type": "code",
   "execution_count": 2,
   "metadata": {},
   "outputs": [],
   "source": [
    "x = np.arange(1, 500)"
   ]
  },
  {
   "cell_type": "markdown",
   "metadata": {},
   "source": [
    "### Veamos el tiempo de cómputo de los algoritmos de ordenamiento."
   ]
  },
  {
   "cell_type": "code",
   "execution_count": 3,
   "metadata": {},
   "outputs": [
    {
     "name": "stderr",
     "output_type": "stream",
     "text": [
      " 79%|███████▉  | 393/499 [00:11<00:03, 34.12it/s] \n"
     ]
    },
    {
     "ename": "KeyboardInterrupt",
     "evalue": "",
     "output_type": "error",
     "traceback": [
      "\u001b[0;31m---------------------------------------------------------------------------\u001b[0m",
      "\u001b[0;31mKeyboardInterrupt\u001b[0m                         Traceback (most recent call last)",
      "\u001b[0;32m<ipython-input-3-fb486b4c2f45>\u001b[0m in \u001b[0;36m<module>\u001b[0;34m\u001b[0m\n\u001b[1;32m     17\u001b[0m \u001b[0;34m\u001b[0m\u001b[0m\n\u001b[1;32m     18\u001b[0m     \u001b[0mt_0\u001b[0m \u001b[0;34m=\u001b[0m \u001b[0mtime\u001b[0m\u001b[0;34m(\u001b[0m\u001b[0;34m)\u001b[0m\u001b[0;34m\u001b[0m\u001b[0;34m\u001b[0m\u001b[0m\n\u001b[0;32m---> 19\u001b[0;31m     \u001b[0mbubbleSort\u001b[0m\u001b[0;34m(\u001b[0m\u001b[0ms\u001b[0m\u001b[0;34m)\u001b[0m\u001b[0;34m\u001b[0m\u001b[0;34m\u001b[0m\u001b[0m\n\u001b[0m\u001b[1;32m     20\u001b[0m     \u001b[0mt_f\u001b[0m \u001b[0;34m=\u001b[0m \u001b[0mtime\u001b[0m\u001b[0;34m(\u001b[0m\u001b[0;34m)\u001b[0m\u001b[0;34m\u001b[0m\u001b[0;34m\u001b[0m\u001b[0m\n\u001b[1;32m     21\u001b[0m     \u001b[0mbubble_times\u001b[0m\u001b[0;34m.\u001b[0m\u001b[0mappend\u001b[0m\u001b[0;34m(\u001b[0m\u001b[0mt_f\u001b[0m \u001b[0;34m-\u001b[0m \u001b[0mt_0\u001b[0m\u001b[0;34m)\u001b[0m\u001b[0;34m\u001b[0m\u001b[0;34m\u001b[0m\u001b[0m\n",
      "\u001b[0;32m~/Documents/Proyectos/Web Developing Projects/numero-escondido/Juego-Desde-Consola/Ordenamiento.py\u001b[0m in \u001b[0;36mbubbleSort\u001b[0;34m(s)\u001b[0m\n\u001b[1;32m     50\u001b[0m             \u001b[0;32mif\u001b[0m \u001b[0ms\u001b[0m\u001b[0;34m[\u001b[0m\u001b[0mj\u001b[0m\u001b[0;34m]\u001b[0m \u001b[0;34m>\u001b[0m \u001b[0ms\u001b[0m\u001b[0;34m[\u001b[0m\u001b[0mj\u001b[0m \u001b[0;34m+\u001b[0m \u001b[0;36m1\u001b[0m\u001b[0;34m]\u001b[0m\u001b[0;34m:\u001b[0m\u001b[0;34m\u001b[0m\u001b[0;34m\u001b[0m\u001b[0m\n\u001b[1;32m     51\u001b[0m                 \u001b[0mswap\u001b[0m\u001b[0;34m(\u001b[0m\u001b[0ms\u001b[0m\u001b[0;34m,\u001b[0m \u001b[0mj\u001b[0m\u001b[0;34m,\u001b[0m \u001b[0mj\u001b[0m \u001b[0;34m+\u001b[0m \u001b[0;36m1\u001b[0m\u001b[0;34m)\u001b[0m\u001b[0;34m\u001b[0m\u001b[0;34m\u001b[0m\u001b[0m\n\u001b[0;32m---> 52\u001b[0;31m             \u001b[0mj\u001b[0m \u001b[0;34m+=\u001b[0m \u001b[0;36m1\u001b[0m\u001b[0;34m\u001b[0m\u001b[0;34m\u001b[0m\u001b[0m\n\u001b[0m\u001b[1;32m     53\u001b[0m         \u001b[0mi\u001b[0m \u001b[0;34m+=\u001b[0m \u001b[0;36m1\u001b[0m\u001b[0;34m\u001b[0m\u001b[0;34m\u001b[0m\u001b[0m\n",
      "\u001b[0;31mKeyboardInterrupt\u001b[0m: "
     ]
    }
   ],
   "source": [
    "insertion_times = []\n",
    "selection_times = []\n",
    "bubble_times = []\n",
    "\n",
    "for i in tqdm(x):\n",
    "    s = np.random.rand(i)\n",
    "    \n",
    "    t_0 = time()\n",
    "    insertionSort(s)\n",
    "    t_f = time()\n",
    "    insertion_times.append(t_f - t_0)\n",
    "\n",
    "    t_0 = time()\n",
    "    selectionSort(s)\n",
    "    t_f = time()\n",
    "    selection_times.append(t_f - t_0)\n",
    "\n",
    "    t_0 = time()\n",
    "    bubbleSort(s)\n",
    "    t_f = time()\n",
    "    bubble_times.append(t_f - t_0)"
   ]
  },
  {
   "cell_type": "code",
   "execution_count": null,
   "metadata": {},
   "outputs": [],
   "source": [
    "plt.figure('Tiempos de Ordenamiento')\n",
    "plt.title('Tiempos de Ordenamiento')\n",
    "plt.plot(x, insertion_times, \"o\", label=\"Insertion Sort\")\n",
    "plt.plot(x, selection_times, \"o\", label=\"Selection Sort\")\n",
    "plt.plot(x, bubble_times, \"o\", label=\"Bubble Sort\")\n",
    "plt.grid()\n",
    "plt.legend()\n",
    "plt.xlabel(\"n\")\n",
    "plt.ylabel(\"Tiempo [s]\")\n",
    "plt.savefig(\"Tiempos-de-Ordenamiento.png\")\n",
    "plt.show()"
   ]
  },
  {
   "cell_type": "markdown",
   "metadata": {},
   "source": [
    "### Notemos que los tres gráficos crecen igual de rápido pero aún así hay unos más rápidos que otros. Para este problema parece ser que Selection Sort es el más rápido mientras que Bubble Sort es el más lento."
   ]
  },
  {
   "cell_type": "markdown",
   "metadata": {},
   "source": [
    "### Veamos el tiempo de cómputo de los algoritmos de búsqueda."
   ]
  },
  {
   "cell_type": "code",
   "execution_count": null,
   "metadata": {},
   "outputs": [],
   "source": [
    "busqueda_lineal_times = []\n",
    "busqueda_binaria_times = []\n",
    "\n",
    "for i in tqdm(x):\n",
    "    s = np.random.rand(i)\n",
    "    j = np.random.randint(0, i)\n",
    "\n",
    "    s.sort()\n",
    "\n",
    "    t_0 = time()\n",
    "    busquedaLineal(s, s[j])\n",
    "    t_f  = time()\n",
    "    busqueda_lineal_times.append(t_f - t_0)\n",
    "\n",
    "    t_0 = time()\n",
    "    busquedaBinaria(s, s[j])\n",
    "    t_f  = time()\n",
    "    busqueda_binaria_times.append(t_f - t_0)"
   ]
  },
  {
   "cell_type": "code",
   "execution_count": null,
   "metadata": {},
   "outputs": [],
   "source": [
    "plt.figure('Tiempos de Búsqueda')\n",
    "plt.title('Tiempos de Búsqueda')\n",
    "plt.plot(x, busqueda_lineal_times, \"o\", label=\"Busqueda Lineal\")\n",
    "plt.plot(x, busqueda_binaria_times, \"o\", label=\"Busqueda Binaria\")\n",
    "plt.grid()\n",
    "plt.legend()\n",
    "plt.xlabel(\"n\")\n",
    "plt.ylabel(\"Tiempo [s]\")\n",
    "plt.savefig(\"Tiempos-de-Busqueda.png\")\n",
    "plt.show()"
   ]
  },
  {
   "cell_type": "markdown",
   "metadata": {},
   "source": [
    "### Notemos que claramente Búsqueda Binaria es muchísimo mejor que Búsqueda Lineal, ya que crece más lento (tiene menor orden de cómputo) y además es más rápido. Búsqueda Lineal varía mucho ya que depende de la posición en la lista del número que buscamos, pero es claro que en el peor caso es de orden lineal al tamaño de la lista. Veamos Búsqueda Binaria con más detalle."
   ]
  },
  {
   "cell_type": "code",
   "execution_count": null,
   "metadata": {},
   "outputs": [],
   "source": [
    "# Saco algunos outliers para que se vea mejor.\n",
    "bb_sin_outliers = []\n",
    "x_sin_outliers = []\n",
    "for i in range(len(busqueda_binaria_times)):\n",
    "    if busqueda_binaria_times[i] < np.mean(busqueda_binaria_times) +  3 * np.std(busqueda_binaria_times):\n",
    "        bb_sin_outliers.append(busqueda_binaria_times[i])\n",
    "        x_sin_outliers.append(i + 1)\n",
    "bb_sin_outliers = np.asarray(bb_sin_outliers)\n",
    "x_sin_outliers = np.asarray(x_sin_outliers)\n",
    "\n",
    "plt.figure('Tiempos de Búsqueda Binaria')\n",
    "plt.title('Tiempos de Búsqueda Binaria')\n",
    "plt.plot(x_sin_outliers, bb_sin_outliers, \"o\")\n",
    "plt.grid()\n",
    "plt.xlabel(\"n\")\n",
    "plt.ylabel(\"Tiempo [s]\")\n",
    "plt.savefig(\"Tiempos-de-Busqueda-Binaria.png\")\n",
    "plt.show()"
   ]
  },
  {
   "cell_type": "markdown",
   "metadata": {},
   "source": [
    "### Se nota que el crecimiento es logarítmico."
   ]
  },
  {
   "cell_type": "markdown",
   "metadata": {},
   "source": [
    "### Veamos cuántos turnos le lleva en promedio a Búsqueda Binaria en ganar el juego."
   ]
  },
  {
   "cell_type": "code",
   "execution_count": null,
   "metadata": {},
   "outputs": [],
   "source": [
    "import random"
   ]
  },
  {
   "cell_type": "code",
   "execution_count": null,
   "metadata": {},
   "outputs": [],
   "source": [
    "def busquedaBinariaTurnos(s, x):\n",
    "    assert len(s) > 0\n",
    "    \n",
    "    turnos = 0\n",
    "    if (s[0] == x or s[-1] == x):\n",
    "        turnos += 1\n",
    "    else:\n",
    "        low = 0\n",
    "        high = len(s) - 1\n",
    "        while low + 1 < high and s[low] != x:\n",
    "            mid = int((low + high) / 2)\n",
    "            if s[mid] <= x:\n",
    "                low = mid\n",
    "            else:\n",
    "                high = mid\n",
    "            turnos += 1\n",
    "        \n",
    "    return turnos"
   ]
  },
  {
   "cell_type": "code",
   "execution_count": null,
   "metadata": {},
   "outputs": [],
   "source": [
    "turnos = []\n",
    "for i in tqdm(range(1000)):\n",
    "    lista_full = [*range(1, 1001)]\n",
    "    random.shuffle(lista_full)\n",
    "    lista = lista_full[:100]\n",
    "    lista.sort()\n",
    "\n",
    "    num = lista[random.randint(0, 99)]\n",
    "\n",
    "    t = busquedaBinariaTurnos(lista, num)\n",
    "    turnos.append(t)\n",
    "\n",
    "turnos = np.asarray(turnos)"
   ]
  },
  {
   "cell_type": "code",
   "execution_count": null,
   "metadata": {},
   "outputs": [],
   "source": [
    "print(f'Turnos promedio: {np.mean(turnos)}')\n",
    "print(f'Turnos desviación: {np.std(turnos)}')"
   ]
  },
  {
   "cell_type": "code",
   "execution_count": null,
   "metadata": {},
   "outputs": [],
   "source": []
  }
 ],
 "metadata": {
  "kernelspec": {
   "display_name": "Python 3",
   "language": "python",
   "name": "python3"
  },
  "language_info": {
   "codemirror_mode": {
    "name": "ipython",
    "version": 3
   },
   "file_extension": ".py",
   "mimetype": "text/x-python",
   "name": "python",
   "nbconvert_exporter": "python",
   "pygments_lexer": "ipython3",
   "version": "3.8.5"
  }
 },
 "nbformat": 4,
 "nbformat_minor": 4
}
